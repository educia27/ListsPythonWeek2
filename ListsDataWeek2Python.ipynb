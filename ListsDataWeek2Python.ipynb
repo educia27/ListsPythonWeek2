
{
 "cells": [
  {
   "cell_type": "code",
   "execution_count": 6,
   "id": "0cf09e77-3dea-4580-962a-fb7f7a51c452",
   "metadata": {},
   "outputs": [
    {
     "name": "stdout",
     "output_type": "stream",
     "text": [
      "['Michael Jackson', 10.1, 1982, 'MJ', 1]\n"
     ]
    }
   ],
   "source": [
    "# Sample List\n",
    "\n",
    "L = [\"Michael Jackson\", 10.1,1982,\"MJ\",1]\n",
    "print (L)"
   ]
  },
  {
   "cell_type": "code",
   "execution_count": 7,
   "id": "01355aff-0d21-49ff-86ad-8cb2e659ccd2",
   "metadata": {},
   "outputs": [
    {
     "data": {
      "text/plain": [
       "['MJ', 1]"
      ]
     },
     "execution_count": 7,
     "metadata": {},
     "output_type": "execute_result"
    }
   ],
   "source": [
    "# List slicing\n",
    "\n",
    "L[3:5]"
   ]
  },
  {
   "cell_type": "code",
   "execution_count": 8,
   "id": "42306a60-fce1-42ac-aeea-156c79874b59",
   "metadata": {},
   "outputs": [
    {
     "name": "stdout",
     "output_type": "stream",
     "text": [
      "['Michael Jackson', 10.2, 'pop', 10]\n"
     ]
    }
   ],
   "source": [
    "# Use extend to add elements to list\n",
    "\n",
    "L = [ \"Michael Jackson\", 10.2]\n",
    "L.extend(['pop', 10])\n",
    "print (L)"
   ]
  },
  {
   "cell_type": "code",
   "execution_count": 9,
   "id": "a94269aa-d526-4675-8ac1-dd8ecb0f1ad7",
   "metadata": {},
   "outputs": [
    {
     "name": "stdout",
     "output_type": "stream",
     "text": [
      "['Michael Jackson', 10.2, ['pop', 10]]\n"
     ]
    }
   ],
   "source": [
    "# Use append to add elements to list\n",
    "\n",
    "L = [ \"Michael Jackson\", 10.2]\n",
    "L.append(['pop', 10])\n",
    "print (L)"
   ]
  },
  {
   "cell_type": "code",
   "execution_count": 10,
   "id": "abd7007d-7f24-4f0d-8631-ac4e340c3cd5",
   "metadata": {},
   "outputs": [
    {
     "name": "stdout",
     "output_type": "stream",
     "text": [
      "['Michael Jackson', 10.2, ['pop', 10], ['a', 'b']]\n"
     ]
    }
   ],
   "source": [
    "# Use append to add elements to list\n",
    "\n",
    "L.append(['a','b'])\n",
    "print (L)"
   ]
  },
  {
   "cell_type": "code",
   "execution_count": 11,
   "id": "4c47fb3d-9cdf-450e-9b0e-9d9f90d15ec3",
   "metadata": {},
   "outputs": [
    {
     "name": "stdout",
     "output_type": "stream",
     "text": [
      "Before change: ['disco', 10, 1.2]\n",
      "After change: ['hard rock', 10, 1.2]\n"
     ]
    }
   ],
   "source": [
    "# Change the element based on the index\n",
    "\n",
    "A = [\"disco\", 10, 1.2]\n",
    "print('Before change:', A)\n",
    "A[0] = 'hard rock'\n",
    "print('After change:', A)"
   ]
  },
  {
   "cell_type": "code",
   "execution_count": 12,
   "id": "da988bf6-c6b5-4e6e-8c1e-47e7a75498f3",
   "metadata": {},
   "outputs": [
    {
     "name": "stdout",
     "output_type": "stream",
     "text": [
      "Before change: ['hard rock', 10, 1.2]\n",
      "After change: [10, 1.2]\n"
     ]
    }
   ],
   "source": [
    "# Delete the element based on the index\n",
    "\n",
    "print('Before change:', A)\n",
    "del(A[0])\n",
    "print('After change:', A)"
   ]
  },
  {
   "cell_type": "code",
   "execution_count": 13,
   "id": "acdceda6-ef62-4ceb-ac74-431d085fb960",
   "metadata": {},
   "outputs": [
    {
     "data": {
      "text/plain": [
       "['hard', 'rock']"
      ]
     },
     "execution_count": 13,
     "metadata": {},
     "output_type": "execute_result"
    }
   ],
   "source": [
    "# Split the string, default is by space\n",
    "\n",
    "'hard rock'.split()"
   ]
  },
  {
   "cell_type": "markdown",
   "id": "feadd88a-0766-4d0c-9143-a83d115fecbc",
   "metadata": {},
   "source": [
    "We can use the split function to separate strings on a specific character which we call a delimiter. We pass the character we would like to split on into the argument, which in this case is a comma. The result is a list, and each element corresponds to a set of characters that have been separated by a comma:"
   ]
  },
  {
   "cell_type": "code",
   "execution_count": 14,
   "id": "fe0a3585-3d78-462c-abfb-20bedc29a05f",
   "metadata": {},
   "outputs": [
    {
     "data": {
      "text/plain": [
       "['A', 'B', 'C', 'D']"
      ]
     },
     "execution_count": 14,
     "metadata": {},
     "output_type": "execute_result"
    }
   ],
   "source": [
    "# Split the string by comma\n",
    "\n",
    "'A,B,C,D'.split(',')"
   ]
  },
  {
   "cell_type": "code",
   "execution_count": 15,
   "id": "37619c0e-ae29-4e99-990e-abec4c9cc5c0",
   "metadata": {},
   "outputs": [
    {
     "name": "stdout",
     "output_type": "stream",
     "text": [
      "A: ['hard rock', 10, 1.2]\n",
      "B: ['hard rock', 10, 1.2]\n"
     ]
    }
   ],
   "source": [
    "# Copy (copy by reference) the list A\n",
    "\n",
    "A = [\"hard rock\", 10, 1.2]\n",
    "B = A\n",
    "print('A:', A)\n",
    "print('B:', B)"
   ]
  },
  {
   "cell_type": "code",
   "execution_count": 16,
   "id": "a29a1235-0d70-470d-b188-a52558be639d",
   "metadata": {},
   "outputs": [
    {
     "name": "stdout",
     "output_type": "stream",
     "text": [
      "B[0]: hard rock\n",
      "B[0]: banana\n"
     ]
    }
   ],
   "source": [
    "# Examine the copy by reference\n",
    "\n",
    "print('B[0]:', B[0])\n",
    "A[0] = \"banana\"\n",
    "print('B[0]:', B[0])"
   ]
  },
  {
   "cell_type": "code",
   "execution_count": 17,
   "id": "830e8ac3-bd2e-411b-b12e-c952a23bd7c0",
   "metadata": {},
   "outputs": [
    {
     "name": "stdout",
     "output_type": "stream",
     "text": [
      "['banana', 10, 1.2]\n"
     ]
    }
   ],
   "source": [
    "# Clone (clone by value) the list A\n",
    "\n",
    "B = A[:]\n",
    "print (B)"
   ]
  },
  {
   "cell_type": "markdown",
   "id": "9c5d34d5-d55a-4abf-813a-e7b63538a88b",
   "metadata": {},
   "source": [
    "Variable B references a new copy or clone of the original list.\n",
    "Now if you change A, B will not change:\n"
   ]
  },
  {
   "cell_type": "code",
   "execution_count": 18,
   "id": "da0cf5de-c4cc-47cf-87c8-f6e2dc8eb6bd",
   "metadata": {},
   "outputs": [
    {
     "name": "stdout",
     "output_type": "stream",
     "text": [
      "B[0]: banana\n",
      "B[0]: banana\n"
     ]
    }
   ],
   "source": [
    "print('B[0]:', B[0])\n",
    "A[0] = \"hard rock\"\n",
    "print('B[0]:', B[0])"
   ]
  },
  {
   "cell_type": "markdown",
   "id": "c46652e6-31e5-4354-909e-8ea06e412d39",
   "metadata": {},
   "source": [
    "Create a list a_list, with the following elements 1, hello, [1,2,3] and True"
   ]
  },
  {
   "cell_type": "code",
   "execution_count": 19,
   "id": "36f506d9-3588-498b-9fbb-b9e06b206d19",
   "metadata": {},
   "outputs": [
    {
     "name": "stdout",
     "output_type": "stream",
     "text": [
      "[1, 'hello', [1, 2, 3], True]\n"
     ]
    }
   ],
   "source": [
    "# Write your code below and press Shift+Enter to execute\n",
    "a_list = [1,\"hello\",[1,2,3], True]\n",
    "print (a_list)"
   ]
  },
  {
   "cell_type": "markdown",
   "id": "7ebb852b-bc5c-4044-b98b-d89eb823c33b",
   "metadata": {},
   "source": [
    "Find the value stored at index 1 of a_list."
   ]
  },
  {
   "cell_type": "code",
   "execution_count": 20,
   "id": "264065f0-356e-465c-a300-2d04b75d0bf6",
   "metadata": {},
   "outputs": [
    {
     "data": {
      "text/plain": [
       "'hello'"
      ]
     },
     "execution_count": 20,
     "metadata": {},
     "output_type": "execute_result"
    }
   ],
   "source": [
    "a_list[1]"
   ]
  },
  {
   "cell_type": "markdown",
   "id": "51d8ac0f-5efb-42c4-a7b0-81a45396f5ef",
   "metadata": {},
   "source": [
    "Retrieve the elements stored at index 1, 2 and 3 of a_list."
   ]
  },
  {
   "cell_type": "code",
   "execution_count": 21,
   "id": "31a2e77c-2553-4dbc-8dce-6974e9b26044",
   "metadata": {},
   "outputs": [
    {
     "data": {
      "text/plain": [
       "['hello', [1, 2, 3], True]"
      ]
     },
     "execution_count": 21,
     "metadata": {},
     "output_type": "execute_result"
    }
   ],
   "source": [
    "a_list[1:4]"
   ]
  },
  {
   "cell_type": "markdown",
   "id": "ea61926a-ca00-404c-ab21-ef303539d525",
   "metadata": {},
   "source": [
    "Concatenate the following lists A = [1, 'a'] and B = [2, 1, 'd']:"
   ]
  },
  {
   "cell_type": "code",
   "execution_count": 22,
   "id": "e286012d-9c63-4244-9c11-51505a643100",
   "metadata": {},
   "outputs": [
    {
     "name": "stdout",
     "output_type": "stream",
     "text": [
      "This is the concatenated list: [1, 'a', 2, 1, 'd']\n"
     ]
    }
   ],
   "source": [
    "# Write your code below and press Shift+Enter to execute\n",
    "A = [1, \"a\"]\n",
    "B = [2, 1, 'd']\n",
    "new_list = A + B\n",
    "print (\"This is the concatenated list:\", new_list)"
   ]
  },
  {
   "cell_type": "code",
   "execution_count": null,
   "id": "a7628248-f5da-4cfe-bc76-5d0b052ec106",
   "metadata": {},
   "outputs": [],
   "source": []
  }
 ],
 "metadata": {
  "kernelspec": {
   "display_name": "Python",
   "language": "python",
   "name": "conda-env-python-py"
  },
  "language_info": {
   "codemirror_mode": {
    "name": "ipython",
    "version": 3
   },
   "file_extension": ".py",
   "mimetype": "text/x-python",
   "name": "python",
   "nbconvert_exporter": "python",
   "pygments_lexer": "ipython3",
   "version": "3.6.13"
  }
 },
 "nbformat": 4,
 "nbformat_minor": 5
}
